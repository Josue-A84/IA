{
  "nbformat": 4,
  "nbformat_minor": 0,
  "metadata": {
    "colab": {
      "provenance": [],
      "authorship_tag": "ABX9TyNOGz973qLfvYTteVgR/fzj",
      "include_colab_link": true
    },
    "kernelspec": {
      "name": "python3",
      "display_name": "Python 3"
    },
    "language_info": {
      "name": "python"
    }
  },
  "cells": [
    {
      "cell_type": "markdown",
      "metadata": {
        "id": "view-in-github",
        "colab_type": "text"
      },
      "source": [
        "<a href=\"https://colab.research.google.com/github/Josue-A84/IA/blob/main/ejercico%20de%20prediccion.ipynb\" target=\"_parent\"><img src=\"https://colab.research.google.com/assets/colab-badge.svg\" alt=\"Open In Colab\"/></a>"
      ]
    },
    {
      "cell_type": "code",
      "execution_count": null,
      "metadata": {
        "id": "GbVNmSXmAymr"
      },
      "outputs": [],
      "source": []
    },
    {
      "cell_type": "markdown",
      "source": [
        "Bueno yo comence para prediccion de casos de aumento en covid despues de una pandemia.\n",
        "\n",
        "donde 'y' sera los hospitalizados\n",
        "\n",
        "b0=20\n",
        "b1=0.02 (incremento)\n",
        "b2= 2 (vacunados)\n",
        "b3= 1 (adultos mayores)\n",
        "b4= 1 (enfermedades)\n",
        "\n",
        "donde yo supongo en un area con 2500 personas, el 65% de vacunados del total, un promedio de 40 años de edad, y 20 de enfermades cronicas, lo cual haciendo la formula me dio un total de 20\n"
      ],
      "metadata": {
        "id": "hJJh34oZCEof"
      }
    }
  ]
}