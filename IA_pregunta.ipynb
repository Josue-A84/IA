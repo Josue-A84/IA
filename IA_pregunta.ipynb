{
  "nbformat": 4,
  "nbformat_minor": 0,
  "metadata": {
    "colab": {
      "provenance": [],
      "authorship_tag": "ABX9TyMnyH3kbV7LtLeqrYVDk3/7",
      "include_colab_link": true
    },
    "kernelspec": {
      "name": "python3",
      "display_name": "Python 3"
    },
    "language_info": {
      "name": "python"
    }
  },
  "cells": [
    {
      "cell_type": "markdown",
      "metadata": {
        "id": "view-in-github",
        "colab_type": "text"
      },
      "source": [
        "<a href=\"https://colab.research.google.com/github/Josue-A84/IA/blob/main/IA_pregunta.ipynb\" target=\"_parent\"><img src=\"https://colab.research.google.com/assets/colab-badge.svg\" alt=\"Open In Colab\"/></a>"
      ]
    },
    {
      "cell_type": "code",
      "execution_count": null,
      "metadata": {
        "id": "shL8mJr7wJkz"
      },
      "outputs": [],
      "source": []
    },
    {
      "cell_type": "markdown",
      "source": [
        "Lo que he ido aprendido es que la IA esta presente desde hace muchisimos mas años, lo cual hasta el dia de hoy se le ha llamado de esa forma pero ya existia, en los cuales existen varios temas, como los subconjuntos que existen en este tema , como IA, ML, DP, IA generativa, como es que procesa todo, su sistemas, el NLP, creo que es lo que mas se me ha quedado\n",
        "y para la pregunta\n",
        "\"¿Qué tipo de aprendizaje sería ideal para predecir la deserción estudiantil en una universidad? ¿Por qué?\"\n",
        "yo creo que seria el supervisado, ya que nos ayuda a estar preparados, ya que nos deja predecir algunos puntos importantes del estudiante.\n"
      ],
      "metadata": {
        "id": "j0GCI_TZwKyA"
      }
    }
  ]
}