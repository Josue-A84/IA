{
  "nbformat": 4,
  "nbformat_minor": 0,
  "metadata": {
    "colab": {
      "provenance": [],
      "authorship_tag": "ABX9TyO5kbQTyKJYr+QSEIJbOHFN",
      "include_colab_link": true
    },
    "kernelspec": {
      "name": "python3",
      "display_name": "Python 3"
    },
    "language_info": {
      "name": "python"
    }
  },
  "cells": [
    {
      "cell_type": "markdown",
      "metadata": {
        "id": "view-in-github",
        "colab_type": "text"
      },
      "source": [
        "<a href=\"https://colab.research.google.com/github/Josue-A84/IA/blob/main/Act_tema_clases_n_balanceadas.ipynb\" target=\"_parent\"><img src=\"https://colab.research.google.com/assets/colab-badge.svg\" alt=\"Open In Colab\"/></a>"
      ]
    },
    {
      "cell_type": "code",
      "execution_count": null,
      "metadata": {
        "id": "Z3hlF4v7mhJk"
      },
      "outputs": [],
      "source": []
    },
    {
      "cell_type": "markdown",
      "source": [
        "Para esta actividad, escogi un tema \"mutacion genetica en organismos vivos\"\n",
        "ya que una mutacion puede venir desde el nacimiento hasta el desarrollo de la misma a una edad o nunca, pero la probabilidad que se desarrolle en alguien, como que en nuestro ADN que se altera pero muchas veces es imperceptible."
      ],
      "metadata": {
        "id": "gSseMkcHm1fK"
      }
    }
  ]
}