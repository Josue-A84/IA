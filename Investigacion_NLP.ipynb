{
  "nbformat": 4,
  "nbformat_minor": 0,
  "metadata": {
    "colab": {
      "provenance": [],
      "authorship_tag": "ABX9TyMHQHbTepa3eIKfe5qtyuAc",
      "include_colab_link": true
    },
    "kernelspec": {
      "name": "python3",
      "display_name": "Python 3"
    },
    "language_info": {
      "name": "python"
    }
  },
  "cells": [
    {
      "cell_type": "markdown",
      "metadata": {
        "id": "view-in-github",
        "colab_type": "text"
      },
      "source": [
        "<a href=\"https://colab.research.google.com/github/Josue-A84/IA/blob/main/Investigacion_NLP.ipynb\" target=\"_parent\"><img src=\"https://colab.research.google.com/assets/colab-badge.svg\" alt=\"Open In Colab\"/></a>"
      ]
    },
    {
      "cell_type": "markdown",
      "source": [
        "**Josue de Jesus Lopez Arellanes**\n",
        "**29/05/2025**\n",
        "**NLP**"
      ],
      "metadata": {
        "id": "Rnh5sbwIDCw4"
      }
    },
    {
      "cell_type": "markdown",
      "source": [
        "**Investigacion acerca de NLP**\n",
        "\n",
        "**Tokenizacion:**\n",
        "Es un proceso de division en a lo mejor un parrafo en frases pequeñas o palbras, las cuales se llaman tokens.\n",
        "\n",
        "**Lematizacion**\n",
        "Lo que hace en este proceso es llevar los verbos o palabras a su forma base, como 'comiendo' a 'comer'\n",
        "\n",
        "**Etiquetado gramatical:**\n",
        "Tambien es llamado POS Taggin lo cual es el proceso de etiqueta como lo dice su nombre pero sera con respecto de cada palabra, ya se como verbo, adjetivo, sustantivo, etc...\n",
        "\n",
        "**NER**\n",
        "Es el proceso de indentificaion de entidades dentro de nuestro texto, como nombres de lugares, personas, fechas, cosas que tengan informacion\n",
        "\n",
        "**Parsing**\n",
        "Estructura las frases o fragmentos de texto para poder reconocer o identificar la relacion entre algunas palabra segun sea el idioma\n",
        "\n",
        "**Embeddings**\n",
        "es el proceso donde han¿bra una representacion matematica de palabras o frases en un espacio vectorial\n",
        "\n",
        "\n",
        "fuentes de informacion\n",
        "\n",
        "1. https://www.masterbigdataonline.com/assets/docs/modulo9.pdf\n",
        "2. https://openwebinars.net/blog/tecnicas-clave-para-procesamiento-texto-nlp/\n",
        "3. https://itpe.mx/procesamiento-de-lenguaje-natural-nlp-explorando-el-futuro-de-la-comunicacion-humano-maquina/\n",
        "\n"
      ],
      "metadata": {
        "id": "pT93d-g9DYng"
      }
    }
  ]
}