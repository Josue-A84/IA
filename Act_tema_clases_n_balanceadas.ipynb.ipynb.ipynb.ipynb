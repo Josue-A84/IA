{
  "nbformat": 4,
  "nbformat_minor": 0,
  "metadata": {
    "colab": {
      "provenance": [],
      "authorship_tag": "ABX9TyNLbUM2qN68XqWnJqIRdlQb",
      "include_colab_link": true
    },
    "kernelspec": {
      "name": "python3",
      "display_name": "Python 3"
    },
    "language_info": {
      "name": "python"
    }
  },
  "cells": [
    {
      "cell_type": "markdown",
      "metadata": {
        "id": "view-in-github",
        "colab_type": "text"
      },
      "source": [
        "<a href=\"https://colab.research.google.com/github/Josue-A84/IA/blob/main/Act_tema_clases_n_balanceadas.ipynb.ipynb.ipynb.ipynb\" target=\"_parent\"><img src=\"https://colab.research.google.com/assets/colab-badge.svg\" alt=\"Open In Colab\"/></a>"
      ]
    },
    {
      "cell_type": "code",
      "execution_count": null,
      "metadata": {
        "id": "Z3hlF4v7mhJk"
      },
      "outputs": [],
      "source": []
    },
    {
      "cell_type": "markdown",
      "source": [
        "Para esta actividad, escogi un tema \"mutacion genetica en organismos vivos\"\n",
        "ya que una mutacion puede venir desde el nacimiento hasta el desarrollo de la misma a una edad o nunca, pero la probabilidad que se desarrolle en alguien, como que en nuestro ADN que se altera pero muchas veces es imperceptible."
      ],
      "metadata": {
        "id": "gSseMkcHm1fK"
      }
    },
    {
      "cell_type": "markdown",
      "source": [
        "Dentro de la matriz de confudion hay ciertas variables como:\n",
        "\n",
        "\n",
        "\n",
        "1. Verdaderos positivos VP: En los casos se predice correctamente la clase\n",
        "2. Verdaderos negativos VN: aqui el modelo predice correctamente la clase negativa\n",
        "3. Falsos positivos FP: tambien se conocen como \"Tipo 1\", aqui se predice la clase positiva pero realmente sera negativa\n",
        "4. Falsos negativos FN: \"Tipo 2\", aqui se predice la clase negativa pero realmente sera positiva\n",
        "\n",
        "lo que nos dara la idea de los aciertos y los errores del modelo.\n",
        "\n",
        "\n"
      ],
      "metadata": {
        "id": "_9z4gdS0s29Y"
      }
    },
    {
      "cell_type": "markdown",
      "source": [
        "links:\n",
        "\n",
        "\n",
        "\n",
        "1.  https://scikit-learn.org/stable/modules/generated/sklearn.metrics.confusion_matrix.html\n",
        "2.   https://www.datacamp.com/tutorial/what-is-a-confusion-matrix-in-machine-learning\n",
        "\n",
        "\n"
      ],
      "metadata": {
        "id": "U-eD9573wGRN"
      }
    },
    {
      "cell_type": "markdown",
      "source": [
        "Para la formula de Precision:\n",
        "\n",
        "Precision:VP/(VP + FP) = 412/668 = 0.61\n",
        "\n",
        "sensibilidad\n",
        "\n",
        "Precision:\n",
        "\n",
        "VP/(VP + FN) = 412/429 = 0.96\n",
        "\n",
        "Especifidad:\n",
        "\n",
        "VN/(VN + FP) = 2137/2392 = 0.89"
      ],
      "metadata": {
        "id": "t7YviopCxWj_"
      }
    }
  ]
}